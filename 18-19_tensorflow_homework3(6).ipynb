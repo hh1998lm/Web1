{
 "cells": [
  {
   "cell_type": "code",
   "execution_count": 1,
   "metadata": {},
   "outputs": [],
   "source": [
    "import tensorflow as tf"
   ]
  },
  {
   "cell_type": "code",
   "execution_count": 2,
   "metadata": {},
   "outputs": [],
   "source": [
    "#chapter6-1\n",
    "#设计一个函数，要求输入两个shape、dtype一样的张量，输出一个同样shape、dtype的张量，\n",
    "#并且输出的张量中的元素的每一个值都是输入的两个张量中对应元素最大的\n",
    "def max_num(m,n):\n",
    "    m = tf.convert_to_tensor(m)\n",
    "    n = tf.convert_to_tensor(n)\n",
    "    def max_m(m,n):\n",
    "        return m\n",
    "    def max_n(m,n):\n",
    "        return n\n",
    "    tf.cond(m>n,max_m,max_n)"
   ]
  },
  {
   "cell_type": "code",
   "execution_count": 7,
   "metadata": {},
   "outputs": [],
   "source": [
    "#chapter6-2\n",
    "tf.minimum??\n",
    "tf.maximum??\n",
    "tf.minimum:函数需要输入两个张量，而且这两个张量的类型要相同。\n",
    "    对两个张量进行比较，输出结果为两者中较小的张量。输出张量与输入张量的类型相同\n",
    "tf.maximum:函数需要输入两个张量，而且这两个张量的类型要相同。\n",
    "    对两个张量进行比较，输出结果为两者中较大的张量。输出张量与输入张量的类型相同"
   ]
  },
  {
   "cell_type": "code",
   "execution_count": 4,
   "metadata": {},
   "outputs": [],
   "source": [
    "#chapter6-3\n",
    "tf.TensorArray??"
   ]
  },
  {
   "cell_type": "code",
   "execution_count": 5,
   "metadata": {},
   "outputs": [
    {
     "name": "stdout",
     "output_type": "stream",
     "text": [
      "3\n",
      "[[2.4 3.5]\n",
      " [2.4 3.5]\n",
      " [2.4 3.5]]\n"
     ]
    }
   ],
   "source": [
    "def condition(time, output): \n",
    "    return tf.less(time, 3)\n",
    "\n",
    "def body(time, output): \n",
    "    output = output.write(time, [2.4, 3.5]) \n",
    "    return time + 1, output\n",
    "\n",
    "time = tf.constant(0) \n",
    "output_ta = tf.TensorArray(dtype=tf.float32, size=1, dynamic_size=True)\n",
    "\n",
    "result = tf.while_loop(condition, body, loop_vars=[time, output_ta])\n",
    "\n",
    "last_time, last_out = result\n",
    "\n",
    "final_out = last_out.stack()\n",
    "\n",
    "with tf.Session(): \n",
    "    print(last_time.eval()) \n",
    "    print(final_out.eval())"
   ]
  },
  {
   "cell_type": "code",
   "execution_count": null,
   "metadata": {},
   "outputs": [],
   "source": []
  }
 ],
 "metadata": {
  "kernelspec": {
   "display_name": "Python 3",
   "language": "python",
   "name": "python3"
  },
  "language_info": {
   "codemirror_mode": {
    "name": "ipython",
    "version": 3
   },
   "file_extension": ".py",
   "mimetype": "text/x-python",
   "name": "python",
   "nbconvert_exporter": "python",
   "pygments_lexer": "ipython3",
   "version": "3.5.2"
  }
 },
 "nbformat": 4,
 "nbformat_minor": 2
}
