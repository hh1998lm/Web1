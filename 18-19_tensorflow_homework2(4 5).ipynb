{
 "cells": [
  {
   "cell_type": "code",
   "execution_count": 2,
   "metadata": {},
   "outputs": [],
   "source": [
    "import tensorflow as tf"
   ]
  },
  {
   "cell_type": "code",
   "execution_count": 3,
   "metadata": {},
   "outputs": [
    {
     "name": "stdout",
     "output_type": "stream",
     "text": [
      "1\n",
      "5\n",
      "55\n"
     ]
    }
   ],
   "source": [
    "#chapter4-1\n",
    "m = tf.Variable(1)\n",
    "assign_m = m.assign(1)\n",
    "n = tf.Variable(5)\n",
    "assign_n = n.assign(5)\n",
    "x = tf.placeholder(dtype=tf.int32)\n",
    "y = tf.placeholder(dtype=tf.int32)\n",
    "\n",
    "with tf.Session() as sess:\n",
    "    print(sess.run(assign_m))\n",
    "    print(sess.run(assign_n))\n",
    "    #the structer of the model\n",
    "    z = tf.multiply(x, assign_m) + tf.multiply(y, assign_n)\n",
    "    print(sess.run(z, feed_dict={x:5, y:10}))"
   ]
  },
  {
   "cell_type": "code",
   "execution_count": 45,
   "metadata": {},
   "outputs": [],
   "source": [
    "#chapter4-2\n",
    "name_scope:解决近似节点命名重复的问题，并对不同功能的节点加以区分，可以为作用域中的节点name添加一个或多个前缀，通过前缀划分内部和外部范围\n",
    "variable_scope：主要用于管理变量作用域以及与变量相关的操作\n",
    "\n",
    "相同点：都会返回一个上下文管理器\n",
    "\n",
    "不同点：\n",
    "1.使用`name_scope`可以给`Op`的`name`加前缀，但不包括`tf.get_variable()`创建的变量，其只能与`variable_scope`配合完成相应功能。 \n",
    "2.`variable_scope`的`name`并不总是和`name_scope`的`name`一致 创建两个或多个`variable_scope`时可以填入相同的`name`，此时相当于创建了一个`variable_scope`与两个或多个`name_scope`。 \n",
    "3.创建两个或多个name_scope时,不同的name加上后缀,但variable_scope是相同的"
   ]
  },
  {
   "cell_type": "code",
   "execution_count": 9,
   "metadata": {},
   "outputs": [],
   "source": [
    "tf.nn.sigmoid??"
   ]
  },
  {
   "cell_type": "code",
   "execution_count": null,
   "metadata": {},
   "outputs": [],
   "source": [
    "#构建逻辑回归模型（只有模型部分，不包括训练部分），\n",
    "#使用get_variable与variable_scope将变量的创建与使用分开。\n",
    "#提示：使用tf.nn.sigmoid实现logistic函数。"
   ]
  },
  {
   "cell_type": "code",
   "execution_count": 11,
   "metadata": {
    "scrolled": true
   },
   "outputs": [],
   "source": [
    "#chapter5\n",
    "#创建变量\n",
    "with tf.variable_scope('scope',reuse = None) as scope:\n",
    "    tf.get_variable('x_1',dtype = tf.float32,shape=[])\n",
    "#获取变量\n",
    "with tf.variable_scope(scope, reuse=True) as scope:\n",
    "    x = tf.get_variable('x')\n",
    "#创建函数\n",
    "y = tf.nn.sigmoid(x,name=None)"
   ]
  },
  {
   "cell_type": "code",
   "execution_count": null,
   "metadata": {},
   "outputs": [],
   "source": []
  },
  {
   "cell_type": "code",
   "execution_count": null,
   "metadata": {},
   "outputs": [],
   "source": []
  }
 ],
 "metadata": {
  "kernelspec": {
   "display_name": "Python 3",
   "language": "python",
   "name": "python3"
  },
  "language_info": {
   "codemirror_mode": {
    "name": "ipython",
    "version": 3
   },
   "file_extension": ".py",
   "mimetype": "text/x-python",
   "name": "python",
   "nbconvert_exporter": "python",
   "pygments_lexer": "ipython3",
   "version": "3.5.2"
  }
 },
 "nbformat": 4,
 "nbformat_minor": 2
}
